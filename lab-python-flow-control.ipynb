{
 "cells": [
  {
   "cell_type": "markdown",
   "id": "d3bfc191-8885-42ee-b0a0-bbab867c6f9f",
   "metadata": {
    "tags": []
   },
   "source": [
    "# Lab | Flow Control"
   ]
  },
  {
   "cell_type": "markdown",
   "id": "3851fcd1-cf98-4653-9c89-e003b7ec9400",
   "metadata": {},
   "source": [
    "## Exercise: Managing Customer Orders Optimized\n",
    "\n",
    "In the last lab, you were starting an online store that sells various products. To ensure smooth operations, you developed a program that manages customer orders and inventory.\n",
    "\n",
    "You did so without using flow control. Let's go a step further and improve this code.\n",
    "\n",
    "Follow the steps below to complete the exercise:\n",
    "\n",
    "1. Look at your code from the lab data structures, and improve repeated code with loops.\n",
    "\n",
    "2. Instead of asking the user to input the name of three products that a customer wants to order, do the following:\n",
    "    \n",
    "    a. Prompt the user to enter the name of a product that a customer wants to order.\n",
    "    \n",
    "    b. Add the product name to the \"customer_orders\" set.\n",
    "    \n",
    "    c. Ask the user if they want to add another product (yes/no).\n",
    "    \n",
    "    d. Continue the loop until the user does not want to add another product.\n",
    "\n",
    "3. Instead of updating the inventory by subtracting 1 from the quantity of each product, only do it for  the products that were ordered (those in \"customer_orders\")."
   ]
  },
  {
   "cell_type": "code",
   "execution_count": 29,
   "id": "b2a6e200-f6b2-4c89-9959-073b1e2e4798",
   "metadata": {},
   "outputs": [
    {
     "name": "stdin",
     "output_type": "stream",
     "text": [
      "Enter the number of available t-shirt 8\n",
      "Enter the number of available mug 56\n",
      "Enter the number of available hat 56\n",
      "Enter the number of available book 8\n",
      "Enter the number of available keychain 203\n"
     ]
    }
   ],
   "source": [
    "#1.\n",
    "products=[\"t-shirt\", \"mug\", \"hat\", \"book\", \"keychain\"] #products list\n",
    "inventory={} #empty dictionary\n",
    "for product in products:\n",
    "    inventory[product]=int(input(f\"Enter the number of available {product}\"))\n",
    "customer_orders=set() #set"
   ]
  },
  {
   "cell_type": "code",
   "execution_count": 33,
   "id": "0d0549d4-7c95-49c2-8b99-81ccd600cf3c",
   "metadata": {},
   "outputs": [
    {
     "name": "stdin",
     "output_type": "stream",
     "text": [
      "Enter a product that you want to order from ['t-shirt', 'mug', 'hat', 'book', 'keychain']  mug\n",
      "Do you want to add another product (yes/no) yes\n",
      "Enter a product that you want to order from ['t-shirt', 'mug', 'hat', 'book', 'keychain']  hat\n",
      "Do you want to add another product (yes/no) no\n"
     ]
    }
   ],
   "source": [
    "#2.\n",
    "choice=\"yes\"\n",
    "while choice == \"yes\":\n",
    "    customer_orders.add(input(f\"Enter a product that you want to order from {products} \"))\n",
    "    choice= input(\"Do you want to add another product (yes/no)\")\n",
    "    choice.lower()\n"
   ]
  },
  {
   "cell_type": "code",
   "execution_count": 39,
   "id": "783bee10-ea6a-4b01-bf7d-b84d970e3d13",
   "metadata": {},
   "outputs": [
    {
     "name": "stdout",
     "output_type": "stream",
     "text": [
      "{'t-shirt': 8, 'mug': 55, 'hat': 55, 'book': 8, 'keychain': 203}\n"
     ]
    }
   ],
   "source": [
    "print(inventory)"
   ]
  },
  {
   "cell_type": "code",
   "execution_count": 37,
   "id": "0df50d41-e5db-4d69-94ef-f3680d105d53",
   "metadata": {},
   "outputs": [],
   "source": [
    "#3.\n",
    "for customer_order in customer_orders:\n",
    "    if customer_order in inventory and inventory[customer_order]>0:\n",
    "       inventory[customer_order]=inventory[customer_order]-1"
   ]
  }
 ],
 "metadata": {
  "kernelspec": {
   "display_name": "Python [conda env:base] *",
   "language": "python",
   "name": "conda-base-py"
  },
  "language_info": {
   "codemirror_mode": {
    "name": "ipython",
    "version": 3
   },
   "file_extension": ".py",
   "mimetype": "text/x-python",
   "name": "python",
   "nbconvert_exporter": "python",
   "pygments_lexer": "ipython3",
   "version": "3.12.7"
  }
 },
 "nbformat": 4,
 "nbformat_minor": 5
}
